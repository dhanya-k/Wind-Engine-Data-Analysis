{
 "cells": [
  {
   "cell_type": "code",
   "execution_count": null,
   "id": "6619d4ff",
   "metadata": {},
   "outputs": [],
   "source": [
    "import pandas as pd\n",
    "import matplotlib.pyplot as plt\n",
    "\n",
    "pd.options.display.max_rows=4000 #To display max 4000 rows in the output"
   ]
  },
  {
   "cell_type": "code",
   "execution_count": null,
   "id": "27ceff29",
   "metadata": {},
   "outputs": [],
   "source": [
    "wt=pd.read_csv(r\"D:\\Notes\\Course\\360Digitmg\\2. Project - Wind Turbine Failure\\Datasets\\Client data\\Wind_turbine.csv\")\n",
    "wt"
   ]
  },
  {
   "cell_type": "code",
   "execution_count": null,
   "id": "01100656",
   "metadata": {},
   "outputs": [],
   "source": [
    "wt.info()"
   ]
  },
  {
   "cell_type": "code",
   "execution_count": null,
   "id": "f0fbb48f",
   "metadata": {},
   "outputs": [],
   "source": [
    "#EDA\n",
    "\n",
    "wt.describe()"
   ]
  },
  {
   "cell_type": "code",
   "execution_count": null,
   "id": "d9b41948",
   "metadata": {},
   "outputs": [],
   "source": [
    "wt.mode()"
   ]
  },
  {
   "cell_type": "code",
   "execution_count": null,
   "id": "37349236",
   "metadata": {},
   "outputs": [],
   "source": [
    "#Variance\n",
    "wt.var()"
   ]
  },
  {
   "cell_type": "code",
   "execution_count": null,
   "id": "c154e681",
   "metadata": {},
   "outputs": [],
   "source": [
    "#Range\n",
    "result_df = pd.DataFrame({'min': wt.min(), 'max': wt.max()})\n",
    "result_df"
   ]
  },
  {
   "cell_type": "code",
   "execution_count": null,
   "id": "bdc6e2c4",
   "metadata": {},
   "outputs": [],
   "source": [
    "#Skewness\n",
    "wt.skew()"
   ]
  },
  {
   "cell_type": "code",
   "execution_count": null,
   "id": "86ef2155",
   "metadata": {},
   "outputs": [],
   "source": [
    "#Kurtosis\n",
    "wt.kurt()"
   ]
  },
  {
   "cell_type": "code",
   "execution_count": null,
   "id": "f22f03bf",
   "metadata": {},
   "outputs": [],
   "source": [
    "#Viewing the data distribution using visualizations\n",
    "#Histogram\n",
    "\n",
    "wt.hist(bins=20, figsize=(20, 12))\n",
    "plt.suptitle('Histograms for all Columns (x axis - Bins, y axis - Frequency)', x=0.5, y=0.95, ha='center', fontsize='x-large')\n",
    "plt.show()"
   ]
  },
  {
   "cell_type": "code",
   "execution_count": null,
   "id": "12695b42",
   "metadata": {},
   "outputs": [],
   "source": [
    "#Boxplot\n",
    "fig, ax = plt.subplots(1, 14, figsize=(30,10))\n",
    "\n",
    "# draw boxplots - for one column in each subplot\n",
    "wt.boxplot('Wind_speed', ax=ax[0])\n",
    "wt.boxplot('PowerV', ax=ax[1])\n",
    "wt.boxplot('Nacelle_ambient_temperature', ax=ax[2])\n",
    "wt.boxplot('Generator_bearing_temperature', ax=ax[3])\n",
    "wt.boxplot('Gear_oil_temperature', ax=ax[4])\n",
    "wt.boxplot('Ambient_temperature', ax=ax[5])\n",
    "wt.boxplot('Rotor_Speed', ax=ax[6])\n",
    "wt.boxplot('Nacelle_temperature', ax=ax[7])\n",
    "wt.boxplot('Bearing_temperature', ax=ax[8])\n",
    "wt.boxplot('Generator_speed', ax=ax[9])\n",
    "wt.boxplot('Yaw_angle', ax=ax[10])\n",
    "wt.boxplot('Wind_direction', ax=ax[11])\n",
    "wt.boxplot('Wheel_hub_temperature', ax=ax[12])\n",
    "wt.boxplot('Gear_box_inlet_temperature', ax=ax[13])\n",
    "plt.subplots_adjust(wspace=0.2) \n",
    "\n",
    "plt.show()\n"
   ]
  },
  {
   "cell_type": "code",
   "execution_count": null,
   "id": "571ef2b8",
   "metadata": {},
   "outputs": [],
   "source": [
    "#Density plot\n",
    "wt.plot(kind='density', subplots=True, layout=(1, len(wt.columns)), figsize=(40, 10), sharex=False)\n",
    "plt.suptitle('Density Plots for all Columns', fontsize='xx-large')\n",
    "plt.show()"
   ]
  },
  {
   "cell_type": "code",
   "execution_count": null,
   "id": "898a7fd5",
   "metadata": {},
   "outputs": [],
   "source": [
    "#Scatter plot\n",
    "import seaborn as sns\n",
    "\n",
    "sns.pairplot(wt)\n",
    "plt.suptitle('Pairplot for all Columns', fontsize='x-large')\n",
    "plt.show()"
   ]
  },
  {
   "cell_type": "code",
   "execution_count": null,
   "id": "4bb5fb26",
   "metadata": {},
   "outputs": [],
   "source": []
  },
  {
   "cell_type": "code",
   "execution_count": null,
   "id": "54ce33b3",
   "metadata": {},
   "outputs": [],
   "source": []
  },
  {
   "cell_type": "code",
   "execution_count": null,
   "id": "bb71fc15",
   "metadata": {},
   "outputs": [],
   "source": []
  },
  {
   "cell_type": "code",
   "execution_count": null,
   "id": "fcd688fc",
   "metadata": {},
   "outputs": [],
   "source": [
    "#PREPROCESSING\n",
    "#Converting data type of wtdate from object to date - TYPECASTING\n",
    "\n",
    "wt.wtdate=pd.to_datetime(wt.wtdate,format = '%d-%m-%Y')"
   ]
  },
  {
   "cell_type": "code",
   "execution_count": null,
   "id": "798bfeaf",
   "metadata": {},
   "outputs": [],
   "source": [
    "wt.info()"
   ]
  },
  {
   "cell_type": "code",
   "execution_count": null,
   "id": "fecacc4c",
   "metadata": {},
   "outputs": [],
   "source": [
    "wt.head()"
   ]
  },
  {
   "cell_type": "code",
   "execution_count": null,
   "id": "f2de7851",
   "metadata": {},
   "outputs": [],
   "source": [
    "#Checking for duplicates\n",
    "\n",
    "wt.duplicated()\n"
   ]
  },
  {
   "cell_type": "code",
   "execution_count": null,
   "id": "6090cfbb",
   "metadata": {},
   "outputs": [],
   "source": [
    "wt.duplicated().sum()"
   ]
  },
  {
   "cell_type": "code",
   "execution_count": null,
   "id": "9cd10c53",
   "metadata": {},
   "outputs": [],
   "source": [
    "#Missing values check\n",
    "\n",
    "wt.isnull()"
   ]
  },
  {
   "cell_type": "code",
   "execution_count": null,
   "id": "de89ebf0",
   "metadata": {},
   "outputs": [],
   "source": [
    "wt.isnull().sum()"
   ]
  },
  {
   "cell_type": "code",
   "execution_count": null,
   "id": "6727a534",
   "metadata": {},
   "outputs": [],
   "source": [
    "wt['Wind_speed'] = wt['Wind_speed'].fillna(wt['Wind_speed'].median()) "
   ]
  },
  {
   "cell_type": "code",
   "execution_count": null,
   "id": "69a1d401",
   "metadata": {},
   "outputs": [],
   "source": [
    "wt['PowerV'] = wt['PowerV'].fillna(wt['PowerV'].median())"
   ]
  },
  {
   "cell_type": "code",
   "execution_count": null,
   "id": "ec0dc3c0",
   "metadata": {},
   "outputs": [],
   "source": [
    "wt['Nacelle_ambient_temperature'] = wt['Nacelle_ambient_temperature'].fillna(wt['Nacelle_ambient_temperature'].median())"
   ]
  },
  {
   "cell_type": "code",
   "execution_count": null,
   "id": "3a36cf87",
   "metadata": {},
   "outputs": [],
   "source": [
    "wt['Nacelle_temperature'] = wt['Nacelle_temperature'].fillna(wt['Nacelle_temperature'].median())"
   ]
  },
  {
   "cell_type": "code",
   "execution_count": null,
   "id": "e4db9023",
   "metadata": {},
   "outputs": [],
   "source": [
    "wt['Generator_speed'] = wt['Generator_speed'].fillna(wt['Generator_speed'].median())"
   ]
  },
  {
   "cell_type": "code",
   "execution_count": null,
   "id": "fe5110a9",
   "metadata": {},
   "outputs": [],
   "source": [
    "wt['Yaw_angle'] = wt['Yaw_angle'].fillna(wt['Yaw_angle'].median())"
   ]
  },
  {
   "cell_type": "code",
   "execution_count": null,
   "id": "8b0c2dba",
   "metadata": {},
   "outputs": [],
   "source": [
    "wt['Gear_box_inlet_temperature'] = wt['Gear_box_inlet_temperature'].fillna(wt['Gear_box_inlet_temperature'].median())"
   ]
  },
  {
   "cell_type": "code",
   "execution_count": null,
   "id": "cba6efef",
   "metadata": {},
   "outputs": [],
   "source": [
    "wt.isnull().sum()"
   ]
  },
  {
   "cell_type": "code",
   "execution_count": null,
   "id": "6985d31a",
   "metadata": {},
   "outputs": [],
   "source": []
  }
 ],
 "metadata": {
  "kernelspec": {
   "display_name": "Python 3 (ipykernel)",
   "language": "python",
   "name": "python3"
  },
  "language_info": {
   "codemirror_mode": {
    "name": "ipython",
    "version": 3
   },
   "file_extension": ".py",
   "mimetype": "text/x-python",
   "name": "python",
   "nbconvert_exporter": "python",
   "pygments_lexer": "ipython3",
   "version": "3.11.4"
  }
 },
 "nbformat": 4,
 "nbformat_minor": 5
}
